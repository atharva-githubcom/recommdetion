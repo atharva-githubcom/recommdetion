{
 "cells": [
  {
   "cell_type": "code",
   "execution_count": 3,
   "metadata": {
    "colab": {
     "base_uri": "https://localhost:8080/"
    },
    "executionInfo": {
     "elapsed": 12092,
     "status": "ok",
     "timestamp": 1704516781987,
     "user": {
      "displayName": "Atharva Gite",
      "userId": "15853475349465581149"
     },
     "user_tz": -330
    },
    "id": "Afdjvc3FHZQ-",
    "outputId": "730239f4-867a-435f-8e93-1a785d051621"
   },
   "outputs": [
    {
     "name": "stdout",
     "output_type": "stream",
     "text": [
      "Collecting PyMuPDF\n",
      "  Downloading PyMuPDF-1.23.8-cp310-none-manylinux2014_x86_64.whl (4.4 MB)\n",
      "\u001b[2K     \u001b[90m━━━━━━━━━━━━━━━━━━━━━━━━━━━━━━━━━━━━━━━━\u001b[0m \u001b[32m4.4/4.4 MB\u001b[0m \u001b[31m33.4 MB/s\u001b[0m eta \u001b[36m0:00:00\u001b[0m\n",
      "\u001b[?25hRequirement already satisfied: scikit-learn in /usr/local/lib/python3.10/dist-packages (1.2.2)\n",
      "Collecting PyMuPDFb==1.23.7 (from PyMuPDF)\n",
      "  Downloading PyMuPDFb-1.23.7-py3-none-manylinux2014_x86_64.manylinux_2_17_x86_64.whl (30.6 MB)\n",
      "\u001b[2K     \u001b[90m━━━━━━━━━━━━━━━━━━━━━━━━━━━━━━━━━━━━━━━━\u001b[0m \u001b[32m30.6/30.6 MB\u001b[0m \u001b[31m46.6 MB/s\u001b[0m eta \u001b[36m0:00:00\u001b[0m\n",
      "\u001b[?25hRequirement already satisfied: numpy>=1.17.3 in /usr/local/lib/python3.10/dist-packages (from scikit-learn) (1.23.5)\n",
      "Requirement already satisfied: scipy>=1.3.2 in /usr/local/lib/python3.10/dist-packages (from scikit-learn) (1.11.4)\n",
      "Requirement already satisfied: joblib>=1.1.1 in /usr/local/lib/python3.10/dist-packages (from scikit-learn) (1.3.2)\n",
      "Requirement already satisfied: threadpoolctl>=2.0.0 in /usr/local/lib/python3.10/dist-packages (from scikit-learn) (3.2.0)\n",
      "Installing collected packages: PyMuPDFb, PyMuPDF\n",
      "Successfully installed PyMuPDF-1.23.8 PyMuPDFb-1.23.7\n"
     ]
    }
   ],
   "source": [
    "pip install PyMuPDF scikit-learn"
   ]
  },
  {
   "cell_type": "code",
   "execution_count": 4,
   "metadata": {
    "executionInfo": {
     "elapsed": 2348,
     "status": "ok",
     "timestamp": 1704516831068,
     "user": {
      "displayName": "Atharva Gite",
      "userId": "15853475349465581149"
     },
     "user_tz": -330
    },
    "id": "sU4zUb0iHiGq"
   },
   "outputs": [],
   "source": [
    "import os\n",
    "import re\n",
    "import pandas as pd\n",
    "from sklearn.feature_extraction.text import TfidfVectorizer\n",
    "from sklearn.metrics.pairwise import linear_kernel"
   ]
  },
  {
   "cell_type": "code",
   "execution_count": 5,
   "metadata": {
    "executionInfo": {
     "elapsed": 19,
     "status": "ok",
     "timestamp": 1704516887499,
     "user": {
      "displayName": "Atharva Gite",
      "userId": "15853475349465581149"
     },
     "user_tz": -330
    },
    "id": "fJtHZfT3Hspr"
   },
   "outputs": [],
   "source": [
    "import fitz  # PyMuPDF\n",
    "\n",
    "def extract_text_from_pdf(pdf_path):\n",
    "    text = \" /content/drive/MyDrive/dataset/Hotels_Of_Nashik (1).pdf\"\n",
    "    pdf_document = fitz.open(pdf_path)\n",
    "    for page_num in range(pdf_document.page_count):\n",
    "        page = pdf_document[page_num]\n",
    "        text += page.get_text()\n",
    "    return text"
   ]
  },
  {
   "cell_type": "code",
   "execution_count": 6,
   "metadata": {
    "executionInfo": {
     "elapsed": 813,
     "status": "ok",
     "timestamp": 1704516934747,
     "user": {
      "displayName": "Atharva Gite",
      "userId": "15853475349465581149"
     },
     "user_tz": -330
    },
    "id": "uewrX68VH6Wr"
   },
   "outputs": [],
   "source": [
    "def preprocess_text(text):\n",
    "    # Remove non-alphanumeric characters and convert to lowercase\n",
    "    text = re.sub(r'\\W', ' ', text)\n",
    "    text = re.sub(r'\\s+', ' ', text).strip()\n",
    "    return text.lower()"
   ]
  },
  {
   "cell_type": "code",
   "execution_count": 7,
   "metadata": {
    "executionInfo": {
     "elapsed": 730,
     "status": "ok",
     "timestamp": 1704516983087,
     "user": {
      "displayName": "Atharva Gite",
      "userId": "15853475349465581149"
     },
     "user_tz": -330
    },
    "id": "Y34FJPurIGK0"
   },
   "outputs": [],
   "source": [
    "def recommend_items(user_preferences, item_data, num_recommendations=5):\n",
    "    # Combine user preferences into a single string\n",
    "    user_text = ' '.join(user_preferences)\n",
    "    user_text = preprocess_text(user_text)\n",
    "\n",
    "    # Preprocess item descriptions\n",
    "    item_data['processed_description'] = item_data['description'].apply(preprocess_text)\n",
    "\n",
    "    # Combine item descriptions into a single string\n",
    "    item_corpus = ' '.join(item_data['processed_description'])\n",
    "\n",
    "    # Create TF-IDF vectorizer\n",
    "    vectorizer = TfidfVectorizer(stop_words='english')\n",
    "\n",
    "    # Fit and transform the vectorizer on the item corpus\n",
    "    item_tfidf_matrix = vectorizer.fit_transform([item_corpus, user_text])\n",
    "\n",
    "    # Calculate cosine similarity between the user preferences and item descriptions\n",
    "    cosine_similarities = linear_kernel(item_tfidf_matrix, item_tfidf_matrix)\n",
    "\n",
    "    # Get the indices of items based on similarity scores\n",
    "    item_indices = cosine_similarities[0].argsort()[:-num_recommendations-1:-1]\n",
    "\n",
    "    # Return recommended items\n",
    "    recommendations = item_data.iloc[item_indices]\n",
    "    return recommendations[['item_name', 'description']]"
   ]
  },
  {
   "cell_type": "code",
   "execution_count": 8,
   "metadata": {
    "colab": {
     "base_uri": "https://localhost:8080/",
     "height": 279
    },
    "executionInfo": {
     "elapsed": 486,
     "status": "error",
     "timestamp": 1704517133546,
     "user": {
      "displayName": "Atharva Gite",
      "userId": "15853475349465581149"
     },
     "user_tz": -330
    },
    "id": "MOUM2CE6ISXZ",
    "outputId": "0ebd594e-4984-491c-9ff0-bf2357d7bc9e"
   },
   "outputs": [
    {
     "ename": "FileNotFoundError",
     "evalue": "[Errno 2] No such file or directory: ' /content/drive/MyDrive/dataset/Hotels_Of_Nashik (1).pdf'",
     "output_type": "error",
     "traceback": [
      "\u001b[0;31m---------------------------------------------------------------------------\u001b[0m",
      "\u001b[0;31mFileNotFoundError\u001b[0m                         Traceback (most recent call last)",
      "\u001b[0;32m<ipython-input-8-ef36d2a9141a>\u001b[0m in \u001b[0;36m<cell line: 10>\u001b[0;34m()\u001b[0m\n\u001b[1;32m      8\u001b[0m \u001b[0;31m# Example PDF files containing additional content\u001b[0m\u001b[0;34m\u001b[0m\u001b[0;34m\u001b[0m\u001b[0m\n\u001b[1;32m      9\u001b[0m \u001b[0mpdf_folder_path\u001b[0m \u001b[0;34m=\u001b[0m \u001b[0;34m\" /content/drive/MyDrive/dataset/Hotels_Of_Nashik (1).pdf\"\u001b[0m\u001b[0;34m\u001b[0m\u001b[0;34m\u001b[0m\u001b[0m\n\u001b[0;32m---> 10\u001b[0;31m \u001b[0mpdf_files\u001b[0m \u001b[0;34m=\u001b[0m \u001b[0;34m[\u001b[0m\u001b[0mos\u001b[0m\u001b[0;34m.\u001b[0m\u001b[0mpath\u001b[0m\u001b[0;34m.\u001b[0m\u001b[0mjoin\u001b[0m\u001b[0;34m(\u001b[0m\u001b[0mpdf_folder_path\u001b[0m\u001b[0;34m,\u001b[0m \u001b[0mfile\u001b[0m\u001b[0;34m)\u001b[0m \u001b[0;32mfor\u001b[0m \u001b[0mfile\u001b[0m \u001b[0;32min\u001b[0m \u001b[0mos\u001b[0m\u001b[0;34m.\u001b[0m\u001b[0mlistdir\u001b[0m\u001b[0;34m(\u001b[0m\u001b[0mpdf_folder_path\u001b[0m\u001b[0;34m)\u001b[0m \u001b[0;32mif\u001b[0m \u001b[0mfile\u001b[0m\u001b[0;34m.\u001b[0m\u001b[0mendswith\u001b[0m\u001b[0;34m(\u001b[0m\u001b[0;34m\".pdf\"\u001b[0m\u001b[0;34m)\u001b[0m\u001b[0;34m]\u001b[0m\u001b[0;34m\u001b[0m\u001b[0;34m\u001b[0m\u001b[0m\n\u001b[0m\u001b[1;32m     11\u001b[0m \u001b[0;34m\u001b[0m\u001b[0m\n\u001b[1;32m     12\u001b[0m \u001b[0;31m# Extract text from PDFs and add to user preferences\u001b[0m\u001b[0;34m\u001b[0m\u001b[0;34m\u001b[0m\u001b[0m\n",
      "\u001b[0;31mFileNotFoundError\u001b[0m: [Errno 2] No such file or directory: ' /content/drive/MyDrive/dataset/Hotels_Of_Nashik (1).pdf'"
     ]
    }
   ],
   "source": [
    "# Example user preferences and item data (replace with your data)\n",
    "user_preferences = [\"interesting topic\", \"easy to understand\"]\n",
    "item_data = pd.DataFrame({\n",
    "    'item_name': ['MISAL pav'],\n",
    "    'description': [' chulivarchi']\n",
    "})\n",
    "\n",
    "# Example PDF files containing additional content\n",
    "pdf_folder_path = \" /content/drive/MyDrive/dataset/Hotels_Of_Nashik (1).pdf\"\n",
    "pdf_files = [os.path.join(pdf_folder_path, file) for file in os.listdir(pdf_folder_path) if file.endswith(\".pdf\")]\n",
    "\n",
    "# Extract text from PDFs and add to user preferences\n",
    "for pdf_file in pdf_files:\n",
    "    pdf_text = extract_text_from_pdf(pdf_file)\n",
    "    user_preferences.append(pdf_text)\n",
    "\n",
    "# Get item recommendations based on user preferences\n",
    "recommendations = recommend_items(user_preferences, item_data)\n",
    "\n",
    "# Print recommended items\n",
    "print(recommendations)"
   ]
  },
  {
   "cell_type": "code",
   "execution_count": 12,
   "metadata": {
    "colab": {
     "base_uri": "https://localhost:8080/"
    },
    "executionInfo": {
     "elapsed": 2963,
     "status": "ok",
     "timestamp": 1704517278050,
     "user": {
      "displayName": "Atharva Gite",
      "userId": "15853475349465581149"
     },
     "user_tz": -330
    },
    "id": "YIzvHUjfJPEs",
    "outputId": "6135e650-bf0c-4961-bf1c-8b7d5497c4e6"
   },
   "outputs": [
    {
     "name": "stdout",
     "output_type": "stream",
     "text": [
      "\u001b[31mERROR: Could not find a version that satisfies the requirement glob (from versions: none)\u001b[0m\u001b[31m\n",
      "\u001b[0m\u001b[31mERROR: No matching distribution found for glob\u001b[0m\u001b[31m\n",
      "\u001b[0m"
     ]
    }
   ],
   "source": [
    "!pip install glob"
   ]
  },
  {
   "cell_type": "code",
   "execution_count": 13,
   "metadata": {
    "colab": {
     "base_uri": "https://localhost:8080/",
     "height": 245
    },
    "executionInfo": {
     "elapsed": 8,
     "status": "error",
     "timestamp": 1704517281602,
     "user": {
      "displayName": "Atharva Gite",
      "userId": "15853475349465581149"
     },
     "user_tz": -330
    },
    "id": "WrpfmZzwJAlc",
    "outputId": "30294b10-f415-4ea3-eb87-2f08b859c9de"
   },
   "outputs": [
    {
     "ename": "NameError",
     "evalue": "name 'glob' is not defined",
     "output_type": "error",
     "traceback": [
      "\u001b[0;31m---------------------------------------------------------------------------\u001b[0m",
      "\u001b[0;31mNameError\u001b[0m                                 Traceback (most recent call last)",
      "\u001b[0;32m<ipython-input-13-1c6fb2621b46>\u001b[0m in \u001b[0;36m<cell line: 10>\u001b[0;34m()\u001b[0m\n\u001b[1;32m      8\u001b[0m \u001b[0;31m# Example PDF files containing additional content\u001b[0m\u001b[0;34m\u001b[0m\u001b[0;34m\u001b[0m\u001b[0m\n\u001b[1;32m      9\u001b[0m \u001b[0mpdf_folder_path\u001b[0m \u001b[0;34m=\u001b[0m \u001b[0;34m\" /content/drive/MyDrive/dataset/Hotels_Of_Nashik (1).pdf\"\u001b[0m\u001b[0;34m\u001b[0m\u001b[0;34m\u001b[0m\u001b[0m\n\u001b[0;32m---> 10\u001b[0;31m \u001b[0mpdf_files\u001b[0m \u001b[0;34m=\u001b[0m \u001b[0mglob\u001b[0m\u001b[0;34m.\u001b[0m\u001b[0mglob\u001b[0m\u001b[0;34m(\u001b[0m\u001b[0mpdf_folder_path\u001b[0m \u001b[0;34m+\u001b[0m \u001b[0;34m\"/*.pdf\"\u001b[0m\u001b[0;34m)\u001b[0m\u001b[0;34m\u001b[0m\u001b[0;34m\u001b[0m\u001b[0m\n\u001b[0m\u001b[1;32m     11\u001b[0m \u001b[0;34m\u001b[0m\u001b[0m\n\u001b[1;32m     12\u001b[0m \u001b[0;31m# Extract text from PDFs and add to user preferences\u001b[0m\u001b[0;34m\u001b[0m\u001b[0;34m\u001b[0m\u001b[0m\n",
      "\u001b[0;31mNameError\u001b[0m: name 'glob' is not defined"
     ]
    }
   ],
   "source": [
    "# Example user preferences and item data (replace with your data)\n",
    "user_preferences = [\"interesting topic\", \"easy to understand\"]\n",
    "item_data = pd.DataFrame({\n",
    "    'item_name': ['MISAL pav'],\n",
    "    'description': [' chulivarchi']\n",
    "})\n",
    "\n",
    "# Example PDF files containing additional content\n",
    "pdf_folder_path = \" /content/drive/MyDrive/dataset/Hotels_Of_Nashik (1).pdf\"\n",
    "pdf_files = glob.glob(pdf_folder_path + \"/*.pdf\")\n",
    "\n",
    "# Extract text from PDFs and add to user preferences\n",
    "for pdf_file in pdf_files:\n",
    "    pdf_text = extract_text_from_pdf(pdf_file)\n",
    "    user_preferences.append(pdf_text)\n",
    "\n",
    "# Get item recommendations based on user preferences\n",
    "recommendations = recommend_items(user_preferences, item_data)\n",
    "\n",
    "# Print recommended items\n",
    "print(recommendations)"
   ]
  },
  {
   "cell_type": "code",
   "execution_count": 14,
   "metadata": {
    "executionInfo": {
     "elapsed": 18,
     "status": "ok",
     "timestamp": 1704517315353,
     "user": {
      "displayName": "Atharva Gite",
      "userId": "15853475349465581149"
     },
     "user_tz": -330
    },
    "id": "jK3touYGJgmZ"
   },
   "outputs": [],
   "source": [
    "import glob"
   ]
  },
  {
   "cell_type": "code",
   "execution_count": 16,
   "metadata": {
    "colab": {
     "base_uri": "https://localhost:8080/",
     "height": 245
    },
    "executionInfo": {
     "elapsed": 752,
     "status": "error",
     "timestamp": 1704517419031,
     "user": {
      "displayName": "Atharva Gite",
      "userId": "15853475349465581149"
     },
     "user_tz": -330
    },
    "id": "cEdl8Cr1JjW-",
    "outputId": "2f260e34-df3f-44e2-bd4b-6406b045a1f4"
   },
   "outputs": [
    {
     "ename": "NameError",
     "evalue": "name 'item_indices' is not defined",
     "output_type": "error",
     "traceback": [
      "\u001b[0;31m---------------------------------------------------------------------------\u001b[0m",
      "\u001b[0;31mNameError\u001b[0m                                 Traceback (most recent call last)",
      "\u001b[0;32m<ipython-input-16-9280568906e0>\u001b[0m in \u001b[0;36m<cell line: 20>\u001b[0;34m()\u001b[0m\n\u001b[1;32m     18\u001b[0m \u001b[0;34m\u001b[0m\u001b[0m\n\u001b[1;32m     19\u001b[0m \u001b[0;31m# Get item recommendations based on user preferences\u001b[0m\u001b[0;34m\u001b[0m\u001b[0;34m\u001b[0m\u001b[0m\n\u001b[0;32m---> 20\u001b[0;31m \u001b[0mrecommendations\u001b[0m \u001b[0;34m=\u001b[0m \u001b[0mitem_data\u001b[0m\u001b[0;34m.\u001b[0m\u001b[0mloc\u001b[0m\u001b[0;34m[\u001b[0m\u001b[0mitem_indices\u001b[0m\u001b[0;34m]\u001b[0m\u001b[0;34m\u001b[0m\u001b[0;34m\u001b[0m\u001b[0m\n\u001b[0m\u001b[1;32m     21\u001b[0m \u001b[0;34m\u001b[0m\u001b[0m\n\u001b[1;32m     22\u001b[0m \u001b[0;31m# Print recommended items\u001b[0m\u001b[0;34m\u001b[0m\u001b[0;34m\u001b[0m\u001b[0m\n",
      "\u001b[0;31mNameError\u001b[0m: name 'item_indices' is not defined"
     ]
    }
   ],
   "source": [
    "import glob\n",
    "\n",
    "# Example user preferences and item data (replace with your data)\n",
    "user_preferences = [\"interesting topic\", \"easy to understand\"]\n",
    "item_data = pd.DataFrame({\n",
    "    'item_name': ['MISAL pav'],\n",
    "    'description': [' chulivarchi']\n",
    "})\n",
    "\n",
    "# Example PDF files containing additional content\n",
    "pdf_folder_path = \" /content/drive/MyDrive/dataset/Hotels_Of_Nashik (1).pdf\"\n",
    "pdf_files = glob.glob(pdf_folder_path + \"/*.pdf\")\n",
    "\n",
    "# Extract text from PDFs and add to user preferences\n",
    "for pdf_file in pdf_files:\n",
    "    pdf_text = extract_text_from_pdf(pdf_file)\n",
    "    user_preferences.append(pdf_text)\n",
    "\n",
    "# Get item recommendations based on user preferences\n",
    "recommendations = item_data.loc[item_indices]\n",
    "\n",
    "# Print recommended items\n",
    "print(recommendations)"
   ]
  },
  {
   "cell_type": "code",
   "execution_count": 17,
   "metadata": {
    "colab": {
     "base_uri": "https://localhost:8080/"
    },
    "executionInfo": {
     "elapsed": 21,
     "status": "ok",
     "timestamp": 1704517452649,
     "user": {
      "displayName": "Atharva Gite",
      "userId": "15853475349465581149"
     },
     "user_tz": -330
    },
    "id": "61hyl5UdKCai",
    "outputId": "e2364ff5-3a8b-4ef6-f5a8-c49aa92e890a"
   },
   "outputs": [
    {
     "name": "stdout",
     "output_type": "stream",
     "text": [
      "Empty DataFrame\n",
      "Columns: [item_name, description]\n",
      "Index: []\n"
     ]
    }
   ],
   "source": [
    "import glob\n",
    "import pandas as pd\n",
    "\n",
    "# Example user preferences and item data (replace with your data)\n",
    "user_preferences = [\"interesting topic\", \"easy to understand\"]\n",
    "item_data = pd.DataFrame({\n",
    "    'item_name': ['MISAL pav'],\n",
    "    'description': [' chulivarchi']\n",
    "})\n",
    "\n",
    "# Example PDF files containing additional content\n",
    "pdf_folder_path = \" /content/drive/MyDrive/dataset/Hotels_Of_Nashik (1).pdf\"\n",
    "pdf_files = glob.glob(pdf_folder_path + \"/*.pdf\")\n",
    "\n",
    "# Extract text from PDFs and add to user preferences\n",
    "for pdf_file in pdf_files:\n",
    "    pdf_text = extract_text_from_pdf(pdf_file)\n",
    "    user_preferences.append(pdf_text)\n",
    "\n",
    "# Get item recommendations based on user preferences\n",
    "item_indices = item_data.loc[item_data['description'].isin(user_preferences)].index\n",
    "recommendations = item_data.loc[item_indices]\n",
    "\n",
    "# Print recommended items\n",
    "print(recommendations)"
   ]
  }
 ],
 "metadata": {
  "colab": {
   "authorship_tag": "ABX9TyPrxcSEnhRFHxJh5JzOQSBc",
   "mount_file_id": "11hoXdSFCfpfBlCoBMEV8-s2Wz2OrHU9L",
   "provenance": [],
   "toc_visible": true
  },
  "kernelspec": {
   "display_name": "Python 3 (ipykernel)",
   "language": "python",
   "name": "python3"
  },
  "language_info": {
   "codemirror_mode": {
    "name": "ipython",
    "version": 3
   },
   "file_extension": ".py",
   "mimetype": "text/x-python",
   "name": "python",
   "nbconvert_exporter": "python",
   "pygments_lexer": "ipython3",
   "version": "3.11.5"
  }
 },
 "nbformat": 4,
 "nbformat_minor": 1
}
